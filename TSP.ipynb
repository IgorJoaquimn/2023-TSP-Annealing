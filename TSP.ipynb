{
  "nbformat": 4,
  "nbformat_minor": 0,
  "metadata": {
    "colab": {
      "provenance": [],
      "include_colab_link": true
    },
    "kernelspec": {
      "name": "python3",
      "display_name": "Python 3"
    },
    "language_info": {
      "name": "python"
    }
  },
  "cells": [
    {
      "cell_type": "markdown",
      "metadata": {
        "id": "view-in-github",
        "colab_type": "text"
      },
      "source": [
        "<a href=\"https://colab.research.google.com/github/IgorJoaquimn/2023-TSP-Annealing/blob/main/TSP.ipynb\" target=\"_parent\"><img src=\"https://colab.research.google.com/assets/colab-badge.svg\" alt=\"Open In Colab\"/></a>"
      ]
    },
    {
      "cell_type": "code",
      "execution_count": null,
      "metadata": {
        "id": "mkc3ltPheOPw"
      },
      "outputs": [],
      "source": [
        "import seaborn as sns\n",
        "import matplotlib.pyplot as plt\n",
        "import numpy as np\n",
        "from numba import jit\n",
        "from scipy.spatial.distance import cdist\n",
        "from scipy.stats import multivariate_normal\n",
        "from scipy.spatial import ConvexHull,convex_hull_plot_2d\n",
        "from random import sample\n",
        "import time"
      ]
    },
    {
      "cell_type": "code",
      "source": [
        "@jit(nopython=True)\n",
        "def custo(N,path,dist):\n",
        "    # calcula a distancia total percorrida pela caminhada\n",
        "    ener = 0\n",
        "    for i in range(N-1):\n",
        "        ener += dist[path[i],path[i+1]]\n",
        "    ener += dist[path[0],path[N-1]]     # conecta a última e a primeira cidades do caminho\n",
        "\n",
        "    return ener"
      ],
      "metadata": {
        "id": "vw6m89O6pj9D"
      },
      "execution_count": null,
      "outputs": []
    },
    {
      "cell_type": "code",
      "source": [
        "@jit(nopython=True)\n",
        "def newpath1(N,path):\n",
        "    newpath = np.zeros(N,dtype=np.int16)\n",
        "    i=np.random.randint(N)   # escolhe uma posição aleatória da caminhada\n",
        "    j=i\n",
        "    while j==i:\n",
        "        j=np.random.randint(N)  # escolhe outra posição\n",
        "    if i>j:                    # ordena os índices\n",
        "        ini = j\n",
        "        fin = i\n",
        "    else:\n",
        "        ini = i\n",
        "        fin = j\n",
        "\n",
        "    for k in range(N):        # inverte o sentido em que percorre o caminho entre os indices escolhidos\n",
        "        if k >= ini and k <= fin:\n",
        "            newpath[k] = path[fin-k+ini]\n",
        "        else:\n",
        "            newpath[k] = path[k]\n",
        "\n",
        "    return newpath,ini,fin\n",
        "\n",
        "@jit(nopython=True)\n",
        "def newpath2(N,path):\n",
        "    i = np.random.randint(N)   # escolhe uma posição aleatória da caminhada\n",
        "    j = np.random.randint(N)\n",
        "\n",
        "    if i>j:                    # ordena os índices\n",
        "        ini = j\n",
        "        fin = i\n",
        "    else:\n",
        "        ini = i\n",
        "        fin = j\n",
        "\n",
        "    path[ini:(fin+1)] = path[ini:(fin+1)][::-1]\n",
        "    return path,ini,fin\n",
        "\n",
        "def newpath3(N,path):\n",
        "    i = np.random.randint(N-1)   # escolhe uma posição aleatória da caminhada\n",
        "    j = ((i+N)**2 + 11*i) % (N-1)\n",
        "    if i>j:                    # ordena os índices\n",
        "        ini = j\n",
        "        fin = i\n",
        "    else:\n",
        "        ini = i\n",
        "        fin = j\n",
        "\n",
        "    return np.concatenate([path[:ini+1],path[fin:],path[ini+1:fin]]),ini,fin\n",
        "\n",
        "def newpath4(N,path):\n",
        "  ini, fin = sorted(sample(range(0,N),2))\n",
        "  np.concatenate([path[:ini+1],path[fin:],path[ini+1:fin]])\n",
        "  return  np.concatenate([path[:ini+1],path[fin:],path[ini+1:fin]]), ini, fin\n",
        "\n",
        "@jit(nopython=True)\n",
        "def newpath5(N,path):\n",
        "  i = np.random.randint(N)  # escolhe uma posição aleatória da caminhada\n",
        "  j = i\n",
        "  while j == i:\n",
        "    j = np.random.randint(N)  # escolhe outra posição\n",
        "\n",
        "  # Ordena os índices\n",
        "  ini, fin = sorted([i, j])\n",
        "\n",
        "  # Inverte o sentido em que percorre o caminho entre os índices escolhidos\n",
        "  newpath = np.where(np.logical_and(np.arange(N) >= ini, np.arange(N) <= fin), path[fin - np.arange(ini)], path)"
      ],
      "metadata": {
        "id": "ZmifjFYvplpd"
      },
      "execution_count": null,
      "outputs": []
    },
    {
      "cell_type": "code",
      "source": [
        "def mcstep(N,beta,en,path,best_e,best_p,dist):\n",
        "    # realiza um passo de Monte Carlo\n",
        "    np1 = np.zeros(N,dtype=np.int16)\n",
        "    np1,ini,fin = newpath1(N,path) # propoe um novo caminho\n",
        "\n",
        "\n",
        "    # determina a diferença de energia\n",
        "    esq = ini-1                 # cidade anterior a inicial\n",
        "    if esq < 0: esq=N-1         # condicao de contorno\n",
        "    dir = fin +1                # cidade apos a final\n",
        "    if dir > N-1: dir=0         # condicao de contorno\n",
        "\n",
        "    de = -dist[path[esq],path[ini]] - dist[path[dir],path[fin]]+ dist[np1[esq],np1[ini]] + dist[np1[dir],np1[fin]]\n",
        "\n",
        "    if de < 0:         # aplica o criterio de Metropolis\n",
        "        en += de\n",
        "        path = np1\n",
        "        if en < best_e:  # guarda o melhor caminho gerado até o momento\n",
        "            best_e = en\n",
        "            best_p = path\n",
        "    else:              # aplica o criterio de Metropolis\n",
        "        if np.random.random() < np.exp(-beta*de):\n",
        "            en += de\n",
        "            path = np1\n",
        "\n",
        "    return en,path,best_e,best_p"
      ],
      "metadata": {
        "id": "uxYmxtvWpnLm"
      },
      "execution_count": null,
      "outputs": []
    },
    {
      "cell_type": "code",
      "source": [
        "NPONTOS = 1000\n",
        "X = np.random.uniform(0,1,NPONTOS)\n",
        "Y = np.random.uniform(0,1,NPONTOS)\n",
        "\n",
        "pontos = np.array([X,Y]).T\n",
        "dist = cdist(pontos,pontos,metric=\"euclidean\")\n",
        "rv = multivariate_normal([0, 0.5],np.cov(pontos.T)).pdf(pontos)\n",
        "path = np.argsort(rv)"
      ],
      "metadata": {
        "id": "ZG-5FbZxTY11"
      },
      "execution_count": null,
      "outputs": []
    },
    {
      "cell_type": "code",
      "source": [
        "N = NPONTOS\n",
        "beta = 1\n",
        "en = custo(N,path,dist)\n",
        "best_e = en\n",
        "best_p = path\n",
        "# é isso? sim"
      ],
      "metadata": {
        "id": "pNkU8vuZCLXh"
      },
      "execution_count": null,
      "outputs": []
    },
    {
      "cell_type": "code",
      "source": [
        "N = NPONTOS\n",
        "beta = 1\n",
        "en = custo(N,path,dist)\n",
        "best_e = en\n",
        "best_p = path\n",
        "# é isso? sim\n",
        "\n",
        "\n",
        "t_0 = 1\n",
        "alpha = 0.9\n",
        "\n",
        "t_anterior = t_0\n",
        "t_i         = alpha*t_anterior\n",
        "limiar = np.exp(-100)\n",
        "\n",
        "while((t_anterior - t_i)>limiar):\n",
        "  t_anterior = t_i\n",
        "  t_i         = alpha*t_anterior\n",
        "  beta = 1/t_i\n",
        "  for i in range(5):\n",
        "    en,path,best_e,best_p = mcstep(N,beta,en,path,best_e,best_p,dist)\n",
        "    en    = best_e\n",
        "    path  = best_p\n",
        "\n",
        "print(best_e)"
      ],
      "metadata": {
        "id": "Zb_IJtHprvkk",
        "colab": {
          "base_uri": "https://localhost:8080/"
        },
        "outputId": "26219834-13e8-497b-f59b-4ed0a23405d7"
      },
      "execution_count": null,
      "outputs": [
        {
          "output_type": "stream",
          "name": "stdout",
          "text": [
            "222.8432211921134\n"
          ]
        }
      ]
    },
    {
      "cell_type": "code",
      "source": [
        "!jupyter nbconvert Relatorio_TSP_GiovanaAssis_IgorJoaquim.ipynb --to pdf\n"
      ],
      "metadata": {
        "colab": {
          "base_uri": "https://localhost:8080/"
        },
        "id": "RXf1xkQbWCau",
        "outputId": "81f42690-50dc-48a7-e0f4-0ef6a0333466"
      },
      "execution_count": null,
      "outputs": [
        {
          "output_type": "stream",
          "name": "stdout",
          "text": [
            "[NbConvertApp] Converting notebook Relatorio_TSP_GiovanaAssis_IgorJoaquim.ipynb to pdf\n",
            "[NbConvertApp] Support files will be in Relatorio_TSP_GiovanaAssis_IgorJoaquim_files/\n",
            "[NbConvertApp] Making directory ./Relatorio_TSP_GiovanaAssis_IgorJoaquim_files\n",
            "[NbConvertApp] Making directory ./Relatorio_TSP_GiovanaAssis_IgorJoaquim_files\n",
            "[NbConvertApp] Making directory ./Relatorio_TSP_GiovanaAssis_IgorJoaquim_files\n",
            "[NbConvertApp] Making directory ./Relatorio_TSP_GiovanaAssis_IgorJoaquim_files\n",
            "[NbConvertApp] Writing 50110 bytes to notebook.tex\n",
            "[NbConvertApp] Building PDF\n",
            "Traceback (most recent call last):\n",
            "  File \"/usr/local/bin/jupyter-nbconvert\", line 8, in <module>\n",
            "    sys.exit(main())\n",
            "  File \"/usr/local/lib/python3.10/dist-packages/jupyter_core/application.py\", line 280, in launch_instance\n",
            "    super().launch_instance(argv=argv, **kwargs)\n",
            "  File \"/usr/local/lib/python3.10/dist-packages/traitlets/config/application.py\", line 992, in launch_instance\n",
            "    app.start()\n",
            "  File \"/usr/local/lib/python3.10/dist-packages/nbconvert/nbconvertapp.py\", line 423, in start\n",
            "    self.convert_notebooks()\n",
            "  File \"/usr/local/lib/python3.10/dist-packages/nbconvert/nbconvertapp.py\", line 597, in convert_notebooks\n",
            "    self.convert_single_notebook(notebook_filename)\n",
            "  File \"/usr/local/lib/python3.10/dist-packages/nbconvert/nbconvertapp.py\", line 560, in convert_single_notebook\n",
            "    output, resources = self.export_single_notebook(\n",
            "  File \"/usr/local/lib/python3.10/dist-packages/nbconvert/nbconvertapp.py\", line 488, in export_single_notebook\n",
            "    output, resources = self.exporter.from_filename(\n",
            "  File \"/usr/local/lib/python3.10/dist-packages/nbconvert/exporters/exporter.py\", line 189, in from_filename\n",
            "    return self.from_file(f, resources=resources, **kw)\n",
            "  File \"/usr/local/lib/python3.10/dist-packages/nbconvert/exporters/exporter.py\", line 206, in from_file\n",
            "    return self.from_notebook_node(\n",
            "  File \"/usr/local/lib/python3.10/dist-packages/nbconvert/exporters/pdf.py\", line 194, in from_notebook_node\n",
            "    self.run_latex(tex_file)\n",
            "  File \"/usr/local/lib/python3.10/dist-packages/nbconvert/exporters/pdf.py\", line 164, in run_latex\n",
            "    return self.run_command(\n",
            "  File \"/usr/local/lib/python3.10/dist-packages/nbconvert/exporters/pdf.py\", line 111, in run_command\n",
            "    raise OSError(\n",
            "OSError: xelatex not found on PATH, if you have not installed xelatex you may need to do so. Find further instructions at https://nbconvert.readthedocs.io/en/latest/install.html#installing-tex.\n"
          ]
        }
      ]
    }
  ]
}